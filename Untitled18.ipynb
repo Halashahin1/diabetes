{
  "nbformat": 4,
  "nbformat_minor": 0,
  "metadata": {
    "colab": {
      "provenance": [],
      "authorship_tag": "ABX9TyPwh36p39RZnmailSFsjtVI",
      "include_colab_link": true
    },
    "kernelspec": {
      "name": "python3",
      "display_name": "Python 3"
    },
    "language_info": {
      "name": "python"
    }
  },
  "cells": [
    {
      "cell_type": "markdown",
      "metadata": {
        "id": "view-in-github",
        "colab_type": "text"
      },
      "source": [
        "<a href=\"https://colab.research.google.com/github/Halashahin1/diabetes/blob/main/Untitled18.ipynb\" target=\"_parent\"><img src=\"https://colab.research.google.com/assets/colab-badge.svg\" alt=\"Open In Colab\"/></a>"
      ]
    },
    {
      "cell_type": "markdown",
      "source": [
        "# diabetes\n"
      ],
      "metadata": {
        "id": "BiHah-P5apcF"
      }
    },
    {
      "cell_type": "markdown",
      "source": [
        "-  Hala Shahin"
      ],
      "metadata": {
        "id": "BoxKIAYIdW64"
      }
    },
    {
      "cell_type": "markdown",
      "source": [
        "## Project Overview\n",
        "Analyzing Data for Diabetics\n"
      ],
      "metadata": {
        "id": "qkkX6wyLdprE"
      }
    },
    {
      "cell_type": "markdown",
      "source": [
        "##Project Objective: The objective of this project is to conduct a comprehensive analysis of hospital data pertaining to diabetic patients."
      ],
      "metadata": {
        "id": "JJk1TVSre5sA"
      }
    },
    {
      "cell_type": "markdown",
      "source": [
        "###Key Components of the Project:\n",
        "\n"
      ],
      "metadata": {
        "id": "Ke7UXqBWfT-i"
      }
    },
    {
      "cell_type": "markdown",
      "source": [
        "- Collect and upload data:The Data: The source of the dataused in this project was from Kaggle"
      ],
      "metadata": {
        "id": "D0H9MbyehoxT"
      }
    },
    {
      "cell_type": "code",
      "source": [
        "###"
      ],
      "metadata": {
        "id": "qkQYLOARhqj6"
      },
      "execution_count": null,
      "outputs": []
    },
    {
      "cell_type": "code",
      "source": [
        "###"
      ],
      "metadata": {
        "id": "YXj7APsTh3A0"
      },
      "execution_count": null,
      "outputs": []
    },
    {
      "cell_type": "markdown",
      "source": [
        "- Clean Data"
      ],
      "metadata": {
        "id": "d7mQ2sFkiyTo"
      }
    },
    {
      "cell_type": "code",
      "source": [
        "###"
      ],
      "metadata": {
        "id": "tQIxCME3jC7Z"
      },
      "execution_count": null,
      "outputs": []
    },
    {
      "cell_type": "code",
      "source": [
        "###"
      ],
      "metadata": {
        "id": "T-FeqhEljDHW"
      },
      "execution_count": null,
      "outputs": []
    },
    {
      "cell_type": "markdown",
      "source": [
        "- Exploratory Data Analysis"
      ],
      "metadata": {
        "id": "4t8PceBAjEQh"
      }
    },
    {
      "cell_type": "code",
      "source": [
        "###"
      ],
      "metadata": {
        "id": "6W36lvyZjKfV"
      },
      "execution_count": null,
      "outputs": []
    },
    {
      "cell_type": "code",
      "source": [
        "###"
      ],
      "metadata": {
        "id": "AnP9tof8jKm-"
      },
      "execution_count": null,
      "outputs": []
    },
    {
      "cell_type": "markdown",
      "source": [
        "- Feature Inspection"
      ],
      "metadata": {
        "id": "OQk_GnNDjTP2"
      }
    },
    {
      "cell_type": "code",
      "source": [
        "##"
      ],
      "metadata": {
        "id": "1qDBO3KOjY31"
      },
      "execution_count": null,
      "outputs": []
    },
    {
      "cell_type": "code",
      "source": [
        "##"
      ],
      "metadata": {
        "id": "050YR7OijY9Z"
      },
      "execution_count": null,
      "outputs": []
    }
  ]
}